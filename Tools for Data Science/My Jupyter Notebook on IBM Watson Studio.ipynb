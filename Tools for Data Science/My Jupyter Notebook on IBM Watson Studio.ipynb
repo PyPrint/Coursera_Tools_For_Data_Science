{
 "cells": [
  {
   "cell_type": "markdown",
   "id": "b484579e-a56b-4d8e-8b4e-23cf7ce95475",
   "metadata": {},
   "source": [
    "# My Jupyter Notebook on IBM Watson Studio"
   ]
  },
  {
   "cell_type": "markdown",
   "id": "fa0e84dc-402b-438f-ac81-648f96e878b9",
   "metadata": {},
   "source": [
    "**Jurriaan Engels**\n",
    "\n",
    "My desired occupation would be working as a Data Scientist in a company which has lots of music data, with young passionate people and a company which has a progressive mindset. "
   ]
  },
  {
   "cell_type": "markdown",
   "id": "adba26e3-6539-4fa4-ba29-b7452b5d6e01",
   "metadata": {},
   "source": [
    "*I am interested in Data Science, because I have studied mathematics for 6 years and I am a very social person. I think that Data Science is the perfect combination of these two skills, problem-solving, tools and analysis in Data Science is based on mathematics; at the same time you need to have good storytelling skills to communicate your findings. Additionally, you can apply Data Science in almost any field, meaning that with each new assignment, there are new things to explore and discover. And I very much like that.*"
   ]
  },
  {
   "cell_type": "markdown",
   "id": "a039d6ba-b926-4fa4-b395-6fa90bba349a",
   "metadata": {},
   "source": [
    "### The code in the following cell approximates the Golden Ratio using the Fibonacci series. The input n is the number of Fibonacci numbers generated."
   ]
  },
  {
   "cell_type": "code",
   "execution_count": 4,
   "id": "4c07c5d0-156b-49ae-bb32-82389b27a4a7",
   "metadata": {},
   "outputs": [
    {
     "data": {
      "text/plain": [
       "'With 100 iterations, we approximate the Golden Ratio by 1.618033988749895.'"
      ]
     },
     "execution_count": 4,
     "metadata": {},
     "output_type": "execute_result"
    }
   ],
   "source": [
    "def approxGR(n = 100):\n",
    "    Fibonacci = [0, 1]\n",
    "    for i in range(n):\n",
    "        nextFib = Fibonacci[-1] + Fibonacci[-2]\n",
    "        Fibonacci.append(nextFib)\n",
    "    return f\"With {n} iterations, we approximate the Golden Ratio by {Fibonacci[-1]/Fibonacci[-2]}.\"\n",
    "\n",
    "approxGR(100)"
   ]
  },
  {
   "cell_type": "markdown",
   "id": "f2b9dddf-3650-449f-a527-a80979b4804a",
   "metadata": {
    "tags": []
   },
   "source": [
    "The bullets:\n",
    "- This is the first bullet.\n",
    "- The hyperlink to my personal website: [My personal website](https://pyprint.github.io/JurriaanEngels.github.io/)\n",
    "- The highlighted code: <code>miles = lambda kilometers : kilometers * 0.621371 \n",
    "print(miles(10)\n",
    "</code>"
   ]
  },
  {
   "cell_type": "code",
   "execution_count": null,
   "id": "1ded8b87-c8b4-4ac9-9134-b005111a8a6a",
   "metadata": {},
   "outputs": [],
   "source": []
  }
 ],
 "metadata": {
  "kernelspec": {
   "display_name": "Python",
   "language": "python",
   "name": "conda-env-python-py"
  },
  "language_info": {
   "codemirror_mode": {
    "name": "ipython",
    "version": 3
   },
   "file_extension": ".py",
   "mimetype": "text/x-python",
   "name": "python",
   "nbconvert_exporter": "python",
   "pygments_lexer": "ipython3",
   "version": "3.7.12"
  }
 },
 "nbformat": 4,
 "nbformat_minor": 5
}
